{
 "cells": [
  {
   "cell_type": "code",
   "execution_count": null,
   "metadata": {},
   "outputs": [],
   "source": [
    "%load_ext autoreload\n",
    "%autoreload 2"
   ]
  },
  {
   "cell_type": "code",
   "execution_count": null,
   "metadata": {},
   "outputs": [],
   "source": [
    "import convert_all as crd"
   ]
  },
  {
   "cell_type": "code",
   "execution_count": null,
   "metadata": {},
   "outputs": [],
   "source": [
    "# get all low_dim data\n",
    "raw_dir = \"../demonstrations/raw/stack_cups\"\n",
    "data = crd.raw_to_dict(\n",
    "    raw_dir,\n",
    "    [\"records.json\"],\n",
    "    video_file_names=None,\n",
    "    flatten_mode=\"hdf5\",\n",
    "    concatenater={\n",
    "        \"/observations/qpos\": (\n",
    "            \"/observations/pos_f\",\n",
    "            \"/observations/endpos_f\",\n",
    "        ),\n",
    "        \"/action\": (\n",
    "            \"/observations/pos_t\",\n",
    "            \"/observations/endpos_t\",\n",
    "        ),\n",
    "    },\n",
    "    key_filter=[\n",
    "        \"/observations/eff_f\",\n",
    "        \"/observations/eff_f\",\n",
    "        \"/observations/vel_f\",\n",
    "        \"/observations/vel_t\",\n",
    "        \"/observations/eef_pose_f\",\n",
    "        \"/observations/eef_pose_t\",\n",
    "        \"/observations/time\",\n",
    "        \"count\",\n",
    "    ],\n",
    ")"
   ]
  },
  {
   "cell_type": "code",
   "execution_count": null,
   "metadata": {},
   "outputs": [],
   "source": []
  }
 ],
 "metadata": {
  "kernelspec": {
   "display_name": "aloha",
   "language": "python",
   "name": "python3"
  },
  "language_info": {
   "name": "python",
   "version": "3.8.10"
  }
 },
 "nbformat": 4,
 "nbformat_minor": 2
}
